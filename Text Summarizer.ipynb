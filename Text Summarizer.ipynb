{
 "cells": [
  {
   "cell_type": "code",
   "execution_count": 13,
   "id": "1a1597f3",
   "metadata": {},
   "outputs": [],
   "source": [
    "## input text article\n",
    "article_text=\"Computer science is the study of computation, automation, and information.Computer science spans theoretical disciplines, such as algorithms, theory of computation, and information theory, to practical disciplines including the design and implementation of hardware and software.Computer science is generally considered an area of academic research and distinct from computer programming.Algorithms and data structures have been called the heart of computer science.The theory of computation concerns abstract models of computation and general classes of problems that can be solved using them. Cryptography and computer security study the means for secure communication and prevent security vulnerabilities. Computer graphics and computational geometry study the generation of images. Programming language theory considers approaches to the description of computational processes and database theory concerns the management of repositories of data. Human–computer interaction investigates the interfaces through which humans and computers interact, and software engineering focuses on the design and principles behind developing software. Areas such as operating systems, networks and embedded systems investigate the principles and design behind complex systems. Computer architecture describes construction of computer components and computer-operated equipment. Artificial intelligence and machine learning aim to synthesize goal-orientated processes such as problem-solving, decision-making, environmental adaptation, planning and learning found in humans and animals. Within artificial intelligence, computer vision aims to understand and process image and video data, while natural language processing aims to understand and process textual and linguistic data.\""
   ]
  },
  {
   "cell_type": "code",
   "execution_count": 14,
   "id": "39b95635",
   "metadata": {
    "scrolled": false
   },
   "outputs": [],
   "source": [
    "import re\n",
    "import nltk\n",
    "# nltk.download('punkt')"
   ]
  },
  {
   "cell_type": "code",
   "execution_count": 15,
   "id": "7980baf8",
   "metadata": {},
   "outputs": [
    {
     "data": {
      "text/plain": [
       "'computer science is the study of computation, automation, and information.computer science spans theoretical disciplines, such as algorithms, theory of computation, and information theory, to practical disciplines including the design and implementation of hardware and software.computer science is generally considered an area of academic research and distinct from computer programming.algorithms and data structures have been called the heart of computer science.the theory of computation concerns abstract models of computation and general classes of problems that can be solved using them. cryptography and computer security study the means for secure communication and prevent security vulnerabilities. computer graphics and computational geometry study the generation of images. programming language theory considers approaches to the description of computational processes and database theory concerns the management of repositories of data. human–computer interaction investigates the interfaces through which humans and computers interact, and software engineering focuses on the design and principles behind developing software. areas such as operating systems, networks and embedded systems investigate the principles and design behind complex systems. computer architecture describes construction of computer components and computer-operated equipment. artificial intelligence and machine learning aim to synthesize goal-orientated processes such as problem-solving, decision-making, environmental adaptation, planning and learning found in humans and animals. within artificial intelligence, computer vision aims to understand and process image and video data, while natural language processing aims to understand and process textual and linguistic data.'"
      ]
     },
     "execution_count": 15,
     "metadata": {},
     "output_type": "execute_result"
    }
   ],
   "source": [
    "article_text = article_text.lower()\n",
    "article_text"
   ]
  },
  {
   "cell_type": "code",
   "execution_count": 16,
   "id": "2cd34a6a",
   "metadata": {},
   "outputs": [
    {
     "data": {
      "text/plain": [
       "'computer science is the study of computation automation and information computer science spans theoretical disciplines such as algorithms theory of computation and information theory to practical disciplines including the design and implementation of hardware and software computer science is generally considered an area of academic research and distinct from computer programming algorithms and data structures have been called the heart of computer science the theory of computation concerns abstract models of computation and general classes of problems that can be solved using them cryptography and computer security study the means for secure communication and prevent security vulnerabilities computer graphics and computational geometry study the generation of images programming language theory considers approaches to the description of computational processes and database theory concerns the management of repositories of data human computer interaction investigates the interfaces through which humans and computers interact and software engineering focuses on the design and principles behind developing software areas such as operating systems networks and embedded systems investigate the principles and design behind complex systems computer architecture describes construction of computer components and computer operated equipment artificial intelligence and machine learning aim to synthesize goal orientated processes such as problem solving decision making environmental adaptation planning and learning found in humans and animals within artificial intelligence computer vision aims to understand and process image and video data while natural language processing aims to understand and process textual and linguistic data '"
      ]
     },
     "execution_count": 16,
     "metadata": {},
     "output_type": "execute_result"
    }
   ],
   "source": [
    "# remove spaces, punctuations and numbers\n",
    "clean_text = re.sub('[^a-zA-Z]', ' ', article_text)\n",
    "clean_text = re.sub('\\s+', ' ', clean_text)\n",
    "clean_text"
   ]
  },
  {
   "cell_type": "code",
   "execution_count": 17,
   "id": "512ba83b",
   "metadata": {},
   "outputs": [
    {
     "data": {
      "text/plain": [
       "['computer science is the study of computation, automation, and information.computer science spans theoretical disciplines, such as algorithms, theory of computation, and information theory, to practical disciplines including the design and implementation of hardware and software.computer science is generally considered an area of academic research and distinct from computer programming.algorithms and data structures have been called the heart of computer science.the theory of computation concerns abstract models of computation and general classes of problems that can be solved using them.',\n",
       " 'cryptography and computer security study the means for secure communication and prevent security vulnerabilities.',\n",
       " 'computer graphics and computational geometry study the generation of images.',\n",
       " 'programming language theory considers approaches to the description of computational processes and database theory concerns the management of repositories of data.',\n",
       " 'human–computer interaction investigates the interfaces through which humans and computers interact, and software engineering focuses on the design and principles behind developing software.',\n",
       " 'areas such as operating systems, networks and embedded systems investigate the principles and design behind complex systems.',\n",
       " 'computer architecture describes construction of computer components and computer-operated equipment.',\n",
       " 'artificial intelligence and machine learning aim to synthesize goal-orientated processes such as problem-solving, decision-making, environmental adaptation, planning and learning found in humans and animals.',\n",
       " 'within artificial intelligence, computer vision aims to understand and process image and video data, while natural language processing aims to understand and process textual and linguistic data.']"
      ]
     },
     "execution_count": 17,
     "metadata": {},
     "output_type": "execute_result"
    }
   ],
   "source": [
    "# split into sentence list\n",
    "sentence_list = nltk.sent_tokenize(article_text)\n",
    "sentence_list"
   ]
  },
  {
   "cell_type": "code",
   "execution_count": 18,
   "id": "691824f3",
   "metadata": {},
   "outputs": [],
   "source": [
    "import nltk\n",
    "# nltk.download('stopwords')"
   ]
  },
  {
   "cell_type": "markdown",
   "id": "5c26c6fd",
   "metadata": {},
   "source": [
    "Word Frequencies"
   ]
  },
  {
   "cell_type": "code",
   "execution_count": 19,
   "id": "2c4ca510",
   "metadata": {},
   "outputs": [],
   "source": [
    "stopwords = nltk.corpus.stopwords.words('english')\n",
    "\n",
    "word_frequencies = {}\n",
    "for word in nltk.word_tokenize(clean_text):\n",
    "    if word not in stopwords:\n",
    "        if word not in word_frequencies:\n",
    "            word_frequencies[word] = 1\n",
    "        else:\n",
    "            word_frequencies[word] += 1"
   ]
  },
  {
   "cell_type": "code",
   "execution_count": 20,
   "id": "86943270",
   "metadata": {},
   "outputs": [],
   "source": [
    "maximum_frequency = max(word_frequencies.values())\n",
    "\n",
    "for word in word_frequencies:\n",
    "    word_frequencies[word] = word_frequencies[word] / maximum_frequency"
   ]
  },
  {
   "cell_type": "markdown",
   "id": "c58dd5a8",
   "metadata": {},
   "source": [
    "Calculate Sentence Scores"
   ]
  },
  {
   "cell_type": "code",
   "execution_count": 21,
   "id": "5a9a0268",
   "metadata": {},
   "outputs": [],
   "source": [
    "sentence_scores = {}\n",
    "\n",
    "for sentence in sentence_list:\n",
    "    for word in nltk.word_tokenize(sentence):\n",
    "        if word in word_frequencies and len(sentence.split(' ')) < 30:\n",
    "            if sentence not in sentence_scores:\n",
    "                sentence_scores[sentence] = word_frequencies[word]\n",
    "            else:\n",
    "                sentence_scores[sentence] += word_frequencies[word]"
   ]
  },
  {
   "cell_type": "code",
   "execution_count": 22,
   "id": "58e97c5e",
   "metadata": {},
   "outputs": [
    {
     "data": {
      "text/plain": [
       "{'computer': 1.0,\n",
       " 'science': 0.3333333333333333,\n",
       " 'study': 0.25,\n",
       " 'computation': 0.3333333333333333,\n",
       " 'automation': 0.08333333333333333,\n",
       " 'information': 0.16666666666666666,\n",
       " 'spans': 0.08333333333333333,\n",
       " 'theoretical': 0.08333333333333333,\n",
       " 'disciplines': 0.16666666666666666,\n",
       " 'algorithms': 0.16666666666666666,\n",
       " 'theory': 0.4166666666666667,\n",
       " 'practical': 0.08333333333333333,\n",
       " 'including': 0.08333333333333333,\n",
       " 'design': 0.25,\n",
       " 'implementation': 0.08333333333333333,\n",
       " 'hardware': 0.08333333333333333,\n",
       " 'software': 0.25,\n",
       " 'generally': 0.08333333333333333,\n",
       " 'considered': 0.08333333333333333,\n",
       " 'area': 0.08333333333333333,\n",
       " 'academic': 0.08333333333333333,\n",
       " 'research': 0.08333333333333333,\n",
       " 'distinct': 0.08333333333333333,\n",
       " 'programming': 0.16666666666666666,\n",
       " 'data': 0.3333333333333333,\n",
       " 'structures': 0.08333333333333333,\n",
       " 'called': 0.08333333333333333,\n",
       " 'heart': 0.08333333333333333,\n",
       " 'concerns': 0.16666666666666666,\n",
       " 'abstract': 0.08333333333333333,\n",
       " 'models': 0.08333333333333333,\n",
       " 'general': 0.08333333333333333,\n",
       " 'classes': 0.08333333333333333,\n",
       " 'problems': 0.08333333333333333,\n",
       " 'solved': 0.08333333333333333,\n",
       " 'using': 0.08333333333333333,\n",
       " 'cryptography': 0.08333333333333333,\n",
       " 'security': 0.16666666666666666,\n",
       " 'means': 0.08333333333333333,\n",
       " 'secure': 0.08333333333333333,\n",
       " 'communication': 0.08333333333333333,\n",
       " 'prevent': 0.08333333333333333,\n",
       " 'vulnerabilities': 0.08333333333333333,\n",
       " 'graphics': 0.08333333333333333,\n",
       " 'computational': 0.16666666666666666,\n",
       " 'geometry': 0.08333333333333333,\n",
       " 'generation': 0.08333333333333333,\n",
       " 'images': 0.08333333333333333,\n",
       " 'language': 0.16666666666666666,\n",
       " 'considers': 0.08333333333333333,\n",
       " 'approaches': 0.08333333333333333,\n",
       " 'description': 0.08333333333333333,\n",
       " 'processes': 0.16666666666666666,\n",
       " 'database': 0.08333333333333333,\n",
       " 'management': 0.08333333333333333,\n",
       " 'repositories': 0.08333333333333333,\n",
       " 'human': 0.08333333333333333,\n",
       " 'interaction': 0.08333333333333333,\n",
       " 'investigates': 0.08333333333333333,\n",
       " 'interfaces': 0.08333333333333333,\n",
       " 'humans': 0.16666666666666666,\n",
       " 'computers': 0.08333333333333333,\n",
       " 'interact': 0.08333333333333333,\n",
       " 'engineering': 0.08333333333333333,\n",
       " 'focuses': 0.08333333333333333,\n",
       " 'principles': 0.16666666666666666,\n",
       " 'behind': 0.16666666666666666,\n",
       " 'developing': 0.08333333333333333,\n",
       " 'areas': 0.08333333333333333,\n",
       " 'operating': 0.08333333333333333,\n",
       " 'systems': 0.25,\n",
       " 'networks': 0.08333333333333333,\n",
       " 'embedded': 0.08333333333333333,\n",
       " 'investigate': 0.08333333333333333,\n",
       " 'complex': 0.08333333333333333,\n",
       " 'architecture': 0.08333333333333333,\n",
       " 'describes': 0.08333333333333333,\n",
       " 'construction': 0.08333333333333333,\n",
       " 'components': 0.08333333333333333,\n",
       " 'operated': 0.08333333333333333,\n",
       " 'equipment': 0.08333333333333333,\n",
       " 'artificial': 0.16666666666666666,\n",
       " 'intelligence': 0.16666666666666666,\n",
       " 'machine': 0.08333333333333333,\n",
       " 'learning': 0.16666666666666666,\n",
       " 'aim': 0.08333333333333333,\n",
       " 'synthesize': 0.08333333333333333,\n",
       " 'goal': 0.08333333333333333,\n",
       " 'orientated': 0.08333333333333333,\n",
       " 'problem': 0.08333333333333333,\n",
       " 'solving': 0.08333333333333333,\n",
       " 'decision': 0.08333333333333333,\n",
       " 'making': 0.08333333333333333,\n",
       " 'environmental': 0.08333333333333333,\n",
       " 'adaptation': 0.08333333333333333,\n",
       " 'planning': 0.08333333333333333,\n",
       " 'found': 0.08333333333333333,\n",
       " 'animals': 0.08333333333333333,\n",
       " 'within': 0.08333333333333333,\n",
       " 'vision': 0.08333333333333333,\n",
       " 'aims': 0.16666666666666666,\n",
       " 'understand': 0.16666666666666666,\n",
       " 'process': 0.16666666666666666,\n",
       " 'image': 0.08333333333333333,\n",
       " 'video': 0.08333333333333333,\n",
       " 'natural': 0.08333333333333333,\n",
       " 'processing': 0.08333333333333333,\n",
       " 'textual': 0.08333333333333333,\n",
       " 'linguistic': 0.08333333333333333}"
      ]
     },
     "execution_count": 22,
     "metadata": {},
     "output_type": "execute_result"
    }
   ],
   "source": [
    "word_frequencies"
   ]
  },
  {
   "cell_type": "code",
   "execution_count": 23,
   "id": "77e8e9af",
   "metadata": {},
   "outputs": [
    {
     "data": {
      "text/plain": [
       "{'cryptography and computer security study the means for secure communication and prevent security vulnerabilities.': 2.083333333333333,\n",
       " 'computer graphics and computational geometry study the generation of images.': 1.7499999999999998,\n",
       " 'programming language theory considers approaches to the description of computational processes and database theory concerns the management of repositories of data.': 2.5000000000000004,\n",
       " 'human–computer interaction investigates the interfaces through which humans and computers interact, and software engineering focuses on the design and principles behind developing software.': 1.9166666666666667,\n",
       " 'areas such as operating systems, networks and embedded systems investigate the principles and design behind complex systems.': 1.8333333333333333,\n",
       " 'computer architecture describes construction of computer components and computer-operated equipment.': 2.416666666666667,\n",
       " 'artificial intelligence and machine learning aim to synthesize goal-orientated processes such as problem-solving, decision-making, environmental adaptation, planning and learning found in humans and animals.': 1.6666666666666665,\n",
       " 'within artificial intelligence, computer vision aims to understand and process image and video data, while natural language processing aims to understand and process textual and linguistic data.': 3.833333333333334}"
      ]
     },
     "execution_count": 23,
     "metadata": {},
     "output_type": "execute_result"
    }
   ],
   "source": [
    "sentence_scores"
   ]
  },
  {
   "cell_type": "markdown",
   "id": "c1c75ecc",
   "metadata": {},
   "source": [
    "Text Summarization"
   ]
  },
  {
   "cell_type": "code",
   "execution_count": 27,
   "id": "24cbf5c9",
   "metadata": {},
   "outputs": [
    {
     "name": "stdout",
     "output_type": "stream",
     "text": [
      "within artificial intelligence, computer vision aims to understand and process image and video data, while natural language processing aims to understand and process textual and linguistic data. programming language theory considers approaches to the description of computational processes and database theory concerns the management of repositories of data. computer architecture describes construction of computer components and computer-operated equipment. cryptography and computer security study the means for secure communication and prevent security vulnerabilities. human–computer interaction investigates the interfaces through which humans and computers interact, and software engineering focuses on the design and principles behind developing software.\n"
     ]
    }
   ],
   "source": [
    "#top 5 sentences will be Printed\n",
    "import heapq\n",
    "summary = heapq.nlargest(5, sentence_scores, key=sentence_scores.get)\n",
    "\n",
    "print(\" \".join(summary))"
   ]
  }
 ],
 "metadata": {
  "kernelspec": {
   "display_name": "Python 3",
   "language": "python",
   "name": "python3"
  },
  "language_info": {
   "codemirror_mode": {
    "name": "ipython",
    "version": 3
   },
   "file_extension": ".py",
   "mimetype": "text/x-python",
   "name": "python",
   "nbconvert_exporter": "python",
   "pygments_lexer": "ipython3",
   "version": "3.6.8"
  }
 },
 "nbformat": 4,
 "nbformat_minor": 5
}
